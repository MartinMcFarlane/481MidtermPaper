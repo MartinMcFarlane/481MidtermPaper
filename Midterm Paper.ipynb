{
 "cells": [
  {
   "cell_type": "markdown",
   "id": "021ed57e-d2cc-4245-aab1-39641b5751dd",
   "metadata": {},
   "source": [
    "# Import/Setup"
   ]
  },
  {
   "cell_type": "code",
   "execution_count": 182,
   "id": "5ab40df6",
   "metadata": {},
   "outputs": [],
   "source": [
    "# import packages\n",
    "import numpy as np\n",
    "import pandas as pd\n",
    "import matplotlib.pyplot as plt\n",
    "import statsmodels.api as sm\n",
    "from stargazer.stargazer import Stargazer"
   ]
  },
  {
   "cell_type": "code",
   "execution_count": 183,
   "id": "27fe14af",
   "metadata": {},
   "outputs": [
    {
     "data": {
      "text/html": [
       "<div>\n",
       "<style scoped>\n",
       "    .dataframe tbody tr th:only-of-type {\n",
       "        vertical-align: middle;\n",
       "    }\n",
       "\n",
       "    .dataframe tbody tr th {\n",
       "        vertical-align: top;\n",
       "    }\n",
       "\n",
       "    .dataframe thead th {\n",
       "        text-align: right;\n",
       "    }\n",
       "</style>\n",
       "<table border=\"1\" class=\"dataframe\">\n",
       "  <thead>\n",
       "    <tr style=\"text-align: right;\">\n",
       "      <th></th>\n",
       "      <th>PUMFID</th>\n",
       "      <th>REFYEAR</th>\n",
       "      <th>REFMONTH</th>\n",
       "      <th>PROV</th>\n",
       "      <th>DVURBAN</th>\n",
       "      <th>MHHTYPEB</th>\n",
       "      <th>SEX</th>\n",
       "      <th>DV_AGEP</th>\n",
       "      <th>HHI_01</th>\n",
       "      <th>HDSIZE</th>\n",
       "      <th>...</th>\n",
       "      <th>ANY15DLF</th>\n",
       "      <th>IL6DL</th>\n",
       "      <th>IL5DL</th>\n",
       "      <th>DHAR12</th>\n",
       "      <th>ASSISTOD</th>\n",
       "      <th>DVSST1</th>\n",
       "      <th>DVSS1</th>\n",
       "      <th>CIG30</th>\n",
       "      <th>WEIGHTP</th>\n",
       "      <th>VERDATE</th>\n",
       "    </tr>\n",
       "  </thead>\n",
       "  <tbody>\n",
       "    <tr>\n",
       "      <th>0</th>\n",
       "      <td>1000</td>\n",
       "      <td>2019</td>\n",
       "      <td>12</td>\n",
       "      <td>46</td>\n",
       "      <td>2</td>\n",
       "      <td>3</td>\n",
       "      <td>1</td>\n",
       "      <td>8</td>\n",
       "      <td>1</td>\n",
       "      <td>2</td>\n",
       "      <td>...</td>\n",
       "      <td>2</td>\n",
       "      <td>2</td>\n",
       "      <td>2</td>\n",
       "      <td>2</td>\n",
       "      <td>6</td>\n",
       "      <td>2</td>\n",
       "      <td>2</td>\n",
       "      <td>2</td>\n",
       "      <td>1256.4374</td>\n",
       "      <td>21DEC2020</td>\n",
       "    </tr>\n",
       "    <tr>\n",
       "      <th>1</th>\n",
       "      <td>1001</td>\n",
       "      <td>2019</td>\n",
       "      <td>9</td>\n",
       "      <td>46</td>\n",
       "      <td>2</td>\n",
       "      <td>6</td>\n",
       "      <td>1</td>\n",
       "      <td>5</td>\n",
       "      <td>1</td>\n",
       "      <td>4</td>\n",
       "      <td>...</td>\n",
       "      <td>2</td>\n",
       "      <td>2</td>\n",
       "      <td>2</td>\n",
       "      <td>2</td>\n",
       "      <td>6</td>\n",
       "      <td>3</td>\n",
       "      <td>3</td>\n",
       "      <td>2</td>\n",
       "      <td>1576.0206</td>\n",
       "      <td>21DEC2020</td>\n",
       "    </tr>\n",
       "    <tr>\n",
       "      <th>2</th>\n",
       "      <td>1002</td>\n",
       "      <td>2019</td>\n",
       "      <td>6</td>\n",
       "      <td>35</td>\n",
       "      <td>1</td>\n",
       "      <td>3</td>\n",
       "      <td>2</td>\n",
       "      <td>8</td>\n",
       "      <td>1</td>\n",
       "      <td>2</td>\n",
       "      <td>...</td>\n",
       "      <td>2</td>\n",
       "      <td>2</td>\n",
       "      <td>2</td>\n",
       "      <td>2</td>\n",
       "      <td>6</td>\n",
       "      <td>3</td>\n",
       "      <td>3</td>\n",
       "      <td>2</td>\n",
       "      <td>3880.9735</td>\n",
       "      <td>21DEC2020</td>\n",
       "    </tr>\n",
       "    <tr>\n",
       "      <th>3</th>\n",
       "      <td>1003</td>\n",
       "      <td>2019</td>\n",
       "      <td>8</td>\n",
       "      <td>11</td>\n",
       "      <td>1</td>\n",
       "      <td>3</td>\n",
       "      <td>1</td>\n",
       "      <td>8</td>\n",
       "      <td>1</td>\n",
       "      <td>3</td>\n",
       "      <td>...</td>\n",
       "      <td>1</td>\n",
       "      <td>1</td>\n",
       "      <td>2</td>\n",
       "      <td>2</td>\n",
       "      <td>6</td>\n",
       "      <td>1</td>\n",
       "      <td>1</td>\n",
       "      <td>1</td>\n",
       "      <td>212.8512</td>\n",
       "      <td>21DEC2020</td>\n",
       "    </tr>\n",
       "    <tr>\n",
       "      <th>4</th>\n",
       "      <td>1004</td>\n",
       "      <td>2019</td>\n",
       "      <td>6</td>\n",
       "      <td>12</td>\n",
       "      <td>1</td>\n",
       "      <td>3</td>\n",
       "      <td>1</td>\n",
       "      <td>9</td>\n",
       "      <td>1</td>\n",
       "      <td>3</td>\n",
       "      <td>...</td>\n",
       "      <td>1</td>\n",
       "      <td>1</td>\n",
       "      <td>1</td>\n",
       "      <td>6</td>\n",
       "      <td>6</td>\n",
       "      <td>2</td>\n",
       "      <td>2</td>\n",
       "      <td>2</td>\n",
       "      <td>1078.1501</td>\n",
       "      <td>21DEC2020</td>\n",
       "    </tr>\n",
       "  </tbody>\n",
       "</table>\n",
       "<p>5 rows × 387 columns</p>\n",
       "</div>"
      ],
      "text/plain": [
       "   PUMFID  REFYEAR  REFMONTH  PROV  DVURBAN  MHHTYPEB  SEX  DV_AGEP  HHI_01  \\\n",
       "0    1000     2019        12    46        2         3    1        8       1   \n",
       "1    1001     2019         9    46        2         6    1        5       1   \n",
       "2    1002     2019         6    35        1         3    2        8       1   \n",
       "3    1003     2019         8    11        1         3    1        8       1   \n",
       "4    1004     2019         6    12        1         3    1        9       1   \n",
       "\n",
       "   HDSIZE  ...  ANY15DLF  IL6DL  IL5DL  DHAR12  ASSISTOD  DVSST1  DVSS1  \\\n",
       "0       2  ...         2      2      2       2         6       2      2   \n",
       "1       4  ...         2      2      2       2         6       3      3   \n",
       "2       2  ...         2      2      2       2         6       3      3   \n",
       "3       3  ...         1      1      2       2         6       1      1   \n",
       "4       3  ...         1      1      1       6         6       2      2   \n",
       "\n",
       "   CIG30    WEIGHTP    VERDATE  \n",
       "0      2  1256.4374  21DEC2020  \n",
       "1      2  1576.0206  21DEC2020  \n",
       "2      2  3880.9735  21DEC2020  \n",
       "3      1   212.8512  21DEC2020  \n",
       "4      2  1078.1501  21DEC2020  \n",
       "\n",
       "[5 rows x 387 columns]"
      ]
     },
     "execution_count": 183,
     "metadata": {},
     "output_type": "execute_result"
    }
   ],
   "source": [
    "# import CADS dataset\n",
    "filepath = r\"C:\\Users\\marti\\Documents\\GitHub\\481MidtermPaper\\CADS.csv\"\n",
    "df = pd.read_csv(filepath)\n",
    "#df.head()"
   ]
  },
  {
   "cell_type": "markdown",
   "id": "39c51234-6e8a-42f3-9f18-acbd39e4a1ea",
   "metadata": {},
   "source": [
    "# Data Cleaning"
   ]
  },
  {
   "cell_type": "code",
   "execution_count": 184,
   "id": "99ce9158-e693-4e40-80aa-63f603d493ca",
   "metadata": {
    "tags": []
   },
   "outputs": [],
   "source": [
    "# reduce df to columns of interest\n",
    "sub_cols = ['SEX','PROV','DV_AGEP','DEM_05P','DEM_20','DEM_30','AB_15','INC_50','DVURBAN','HWB_10','HWB_05','ALC_20P','ALC_55','ALC_120A','AL_120BP',\n",
    "            'ALC_90C','ALC_90D','ALC_90B','CAN_20A','CAN_45A','CAN_60','CAN_145','CAN_125A','C_125BP','CAN_80','CAN_15P','CAN_112C','CANALCEV',\n",
    "            'ANY14DYR','TT_20','TT_25A','SS_05','SS_10','SS_25']\n",
    "\n",
    "df = df[sub_cols]\n",
    "\n",
    "# set up provincial controls\n",
    "df['prov_BC'] = (df.loc[:,'PROV'] == 59).astype(int)\n",
    "df['prov_AB'] = (df.loc[:,'PROV'] == 48).astype(int)\n",
    "df['prov_SK'] = (df.loc[:,'PROV'] == 47).astype(int)\n",
    "df['prov_MB'] = (df.loc[:,'PROV'] == 46).astype(int)\n",
    "df['prov_ON'] = (df.loc[:,'PROV'] == 35).astype(int)\n",
    "df['prov_QC'] = (df.loc[:,'PROV'] == 24).astype(int)\n",
    "df['prov_NB'] = (df.loc[:,'PROV'] == 13).astype(int)\n",
    "df['prov_NS'] = (df.loc[:,'PROV'] == 12).astype(int)\n",
    "df['prov_PE'] = (df.loc[:,'PROV'] == 11).astype(int)\n",
    "df['prov_NL'] = (df.loc[:,'PROV'] == 10).astype(int)\n",
    "\n",
    "# sex controls\n",
    "df['male'] = (df.loc[:,'SEX'] == 1).astype(int)\n",
    "\n",
    "# age controls\n",
    "df['age15_24'] = (df.loc[:,'DV_AGEP'] == any([1,2,3,4])).astype(int)\n",
    "df['age25_34'] = (df.loc[:,'DV_AGEP'] == 5).astype(int)\n",
    "df['age35_44'] = (df.loc[:,'DV_AGEP'] == 6).astype(int)\n",
    "df['age45_54'] = (df.loc[:,'DV_AGEP'] == 7).astype(int)\n",
    "df['age55_64'] = (df.loc[:,'DV_AGEP'] == 8).astype(int)\n",
    "df['age65_plus'] = (df.loc[:,'DV_AGEP'] == 9).astype(int)\n",
    "\n",
    "# rural/urban divide\n",
    "df = df.loc[df['DVURBAN'] != 9] # drop observations where urban/rural is unstated (code 9)\n",
    "df['urban'] = (df.loc[:,'DVURBAN'] == 1).astype(int)\n",
    "\n",
    "# Indigenous identity\n",
    "df['indigenous'] = (df.loc[:,'AB_15'] == 1).astype(int)\n",
    "\n",
    "# Highest education\n",
    "df['no_HS'] = (df.loc[:,'DEM_20'] == 1).astype(int)\n",
    "df['HS'] = (df.loc[:,'DEM_20'] == 2).astype(int)\n",
    "df['bel_BA'] = (df.loc[:,'DEM_20'] == any([3,4,5])).astype(int) # Post-secondary completed incl. trades, below Bachelor's\n",
    "df['BA'] = (df.loc[:,'DEM_20'] == 6).astype(int) # Bachelor's degree\n",
    "df['abv_BA'] = (df.loc[:,'DEM_20'] == 7).astype(int)\n",
    "df = df.loc[df['DEM_20'] != 99]\n",
    "\n",
    "# worked last week at job or business\n",
    "df['worked'] = (df.loc[:,'DEM_30'] == 1).astype(int)\n",
    "\n",
    "# Household income\n",
    "df['inc_bel_20'] = (df.loc[:,'INC_50'] == 1).astype(int)\n",
    "df['inc20_40'] = (df.loc[:,'INC_50'] == 2).astype(int)\n",
    "df['inc40_60'] = (df.loc[:,'INC_50'] == 3).astype(int)\n",
    "df['inc60_80'] = (df.loc[:,'INC_50'] == 4).astype(int)\n",
    "df['inc80_100'] = (df.loc[:,'INC_50'] == 5).astype(int)\n",
    "df['inc100_150'] = (df.loc[:,'INC_50'] == 6).astype(int)\n",
    "df['inc_abv_150'] = (df.loc[:,'INC_50'] == 7).astype(int)\n",
    "\n",
    "# lists of controls\n",
    "c_income = ['inc_bel_20','inc20_40','inc40_60','inc60_80','inc80_100','inc100_150','inc_abv_150']\n",
    "c_edu = ['no_HS','HS','bel_BA','BA','abv_BA']\n",
    "c_age = ['age25_34','age35_44','age45_54','age55_64','age65_plus']\n",
    "c_prov = ['prov_BC','prov_AB','prov_SK','prov_MB','prov_ON','prov_QC','prov_NB','prov_NS','prov_PE','prov_NL']\n",
    "\n",
    "# add constant\n",
    "df = sm.add_constant(df)"
   ]
  },
  {
   "cell_type": "markdown",
   "id": "d349996c-ccf8-46b9-997e-909449773b62",
   "metadata": {
    "tags": []
   },
   "source": [
    "# The Rest"
   ]
  },
  {
   "cell_type": "code",
   "execution_count": 185,
   "id": "18c074f3-813e-4465-b1f8-f4c0fdafbae7",
   "metadata": {
    "tags": []
   },
   "outputs": [
    {
     "name": "stderr",
     "output_type": "stream",
     "text": [
      "C:\\Users\\marti\\AppData\\Local\\Temp\\ipykernel_33240\\2838625578.py:22: SettingWithCopyWarning: \n",
      "A value is trying to be set on a copy of a slice from a DataFrame.\n",
      "Try using .loc[row_indexer,col_indexer] = value instead\n",
      "\n",
      "See the caveats in the documentation: https://pandas.pydata.org/pandas-docs/stable/user_guide/indexing.html#returning-a-view-versus-a-copy\n",
      "  df2_drink.loc[:,'drinkDriving'] = (df2.loc[:,'drinkDriving'] == 1).astype(int)\n",
      "C:\\Users\\marti\\AppData\\Local\\Temp\\ipykernel_33240\\2838625578.py:22: DeprecationWarning: In a future version, `df.iloc[:, i] = newvals` will attempt to set the values inplace instead of always setting a new array. To retain the old behavior, use either `df[df.columns[i]] = newvals` or, if columns are non-unique, `df.isetitem(i, newvals)`\n",
      "  df2_drink.loc[:,'drinkDriving'] = (df2.loc[:,'drinkDriving'] == 1).astype(int)\n",
      "C:\\Users\\marti\\AppData\\Local\\Temp\\ipykernel_33240\\2838625578.py:23: SettingWithCopyWarning: \n",
      "A value is trying to be set on a copy of a slice from a DataFrame.\n",
      "Try using .loc[row_indexer,col_indexer] = value instead\n",
      "\n",
      "See the caveats in the documentation: https://pandas.pydata.org/pandas-docs/stable/user_guide/indexing.html#returning-a-view-versus-a-copy\n",
      "  df2_cann.loc[:,'weedDriving'] = (df2.loc[:,'weedDriving'] == 1).astype(int)\n",
      "C:\\Users\\marti\\AppData\\Local\\Temp\\ipykernel_33240\\2838625578.py:23: DeprecationWarning: In a future version, `df.iloc[:, i] = newvals` will attempt to set the values inplace instead of always setting a new array. To retain the old behavior, use either `df[df.columns[i]] = newvals` or, if columns are non-unique, `df.isetitem(i, newvals)`\n",
      "  df2_cann.loc[:,'weedDriving'] = (df2.loc[:,'weedDriving'] == 1).astype(int)\n"
     ]
    }
   ],
   "source": [
    "# 1. How do drinking/driving and weed/driving rates differ by urban/rural?\n",
    "\n",
    "cols = []\n",
    "for column in [c_income, c_age, c_edu, c_prov]:\n",
    "    for cat in column:\n",
    "        cols.append(cat)\n",
    "\n",
    "cols.append('const')\n",
    "cols.append('worked')\n",
    "cols.append('indigenous')\n",
    "cols.append('urban')\n",
    "cols.append('ALC_120A')\n",
    "cols.append('CAN_125A')\n",
    "\n",
    "df2 = df[cols]\n",
    "df2 = df2.rename(columns={'ALC_120A': 'drinkDriving', 'CAN_125A': 'weedDriving'})\n",
    "\n",
    "\n",
    "df2_drink = df2.loc[(df2['drinkDriving'] == 1) | (df2['drinkDriving'] == 2)]\n",
    "df2_cann = df2.loc[(df2['weedDriving'] == 1) | (df2['weedDriving'] == 2)]\n",
    "\n",
    "df2_drink.loc[:,'drinkDriving'] = (df2.loc[:,'drinkDriving'] == 1).astype(int)\n",
    "df2_cann.loc[:,'weedDriving'] = (df2.loc[:,'weedDriving'] == 1).astype(int)"
   ]
  },
  {
   "cell_type": "code",
   "execution_count": 186,
   "id": "bece5188-70d4-4b09-9ff6-e2fa36ccd9ee",
   "metadata": {
    "tags": []
   },
   "outputs": [
    {
     "name": "stdout",
     "output_type": "stream",
     "text": [
      "Optimization terminated successfully.\n",
      "         Current function value: 0.353197\n",
      "         Iterations 7\n",
      "Optimization terminated successfully.\n",
      "         Current function value: 0.219132\n",
      "         Iterations 7\n",
      "Optimization terminated successfully.\n",
      "         Current function value: 0.216531\n",
      "         Iterations 7\n",
      "Optimization terminated successfully.\n",
      "         Current function value: 0.214909\n",
      "         Iterations 8\n",
      "Optimization terminated successfully.\n",
      "         Current function value: 0.210812\n",
      "         Iterations 8\n"
     ]
    }
   ],
   "source": [
    "# logit regression: drinkDriving ~ urban\n",
    "logit = sm.Logit(df2_drink['drinkDriving'], df2_drink['urban']).fit()\n",
    "#print(logit.summary())\n",
    "\n",
    "# 2nd logit regression: drinkDriving ~ urban + education controls\n",
    "exog = ['const','urban'] # set up regressors\n",
    "for i in c_edu[1:]:\n",
    "    exog.append(i)\n",
    "      \n",
    "logit2 = sm.Logit(df2_drink['drinkDriving'], df2_drink[exog]).fit()\n",
    "#print(logit2.summary())\n",
    "\n",
    "# 3rd logit regression: drinkDriving ~ urban + income controls\n",
    "exog = ['const','urban'] # set up regressors\n",
    "for i in c_income[1:]:\n",
    "    exog.append(i)\n",
    "      \n",
    "logit3 = sm.Logit(df2_drink['drinkDriving'], df2_drink[exog]).fit()\n",
    "#print(logit3.summary())\n",
    "\n",
    "# 4th logit regression: drinkDriving ~ urban + provincial FE's\n",
    "exog = ['const','urban'] # set up regressors\n",
    "for i in c_prov[1:]:\n",
    "    exog.append(i)\n",
    "      \n",
    "logit4 = sm.Logit(df2_drink['drinkDriving'], df2_drink[exog]).fit()\n",
    "\n",
    "# 5th logit regression: drinkDriving ~ urban + all controls\n",
    "exog = ['const','urban'] # set up regressors\n",
    "for i in c_prov[1:]:\n",
    "    exog.append(i)\n",
    "for i in c_income[1:]:\n",
    "    exog.append(i)\n",
    "for i in c_edu[1:]:\n",
    "    exog.append(i)\n",
    "      \n",
    "logit5 = sm.Logit(df2_drink['drinkDriving'], df2_drink[exog]).fit()\n",
    "#print(logit5.summary())"
   ]
  },
  {
   "cell_type": "code",
   "execution_count": 187,
   "id": "405008cc-20a0-4916-9769-55c0d27d2131",
   "metadata": {
    "tags": []
   },
   "outputs": [],
   "source": [
    "#for col in exog:\n",
    "#    print(col + ':' + str(sum(df2_drink[col])))"
   ]
  },
  {
   "cell_type": "code",
   "execution_count": 188,
   "id": "abeffef6-df26-4e34-9e9f-035db14a2cd9",
   "metadata": {
    "tags": []
   },
   "outputs": [
    {
     "name": "stdout",
     "output_type": "stream",
     "text": [
      "Optimization terminated successfully.\n",
      "         Current function value: 0.398822\n",
      "         Iterations 6\n",
      "Optimization terminated successfully.\n",
      "         Current function value: 0.301002\n",
      "         Iterations 7\n",
      "Optimization terminated successfully.\n",
      "         Current function value: 0.299786\n",
      "         Iterations 7\n",
      "Optimization terminated successfully.\n",
      "         Current function value: 0.294391\n",
      "         Iterations 7\n",
      "Optimization terminated successfully.\n",
      "         Current function value: 0.292387\n",
      "         Iterations 7\n"
     ]
    }
   ],
   "source": [
    "# logit regression: weedDriving ~ urban\n",
    "clogit = sm.Logit(df2_cann['weedDriving'], df2_cann['urban']).fit()\n",
    "#print(clogit.summary())\n",
    "\n",
    "# 2nd logit regression: weedDriving ~ urban + controls\n",
    "exog = ['const','urban'] # set up regressors\n",
    "for i in c_edu[1:]:\n",
    "    exog.append(i)\n",
    "      \n",
    "clogit2 = sm.Logit(df2_cann['weedDriving'], df2_cann[exog]).fit()\n",
    "#print(clogit2.summary())\n",
    "\n",
    "# 3rd logit regression: weedDriving ~ urban + income controls\n",
    "exog = ['const','urban'] # set up regressors\n",
    "for i in c_income[1:]:\n",
    "    exog.append(i)\n",
    "      \n",
    "clogit3 = sm.Logit(df2_cann['weedDriving'], df2_cann[exog]).fit()\n",
    "#print(clogit3.summary())\n",
    "\n",
    "# 4th logit regression: weedDriving ~ urban + provincial FE's\n",
    "exog = ['const','urban'] # set up regressors\n",
    "for i in c_prov[1:]:\n",
    "    exog.append(i)\n",
    "      \n",
    "clogit4 = sm.Logit(df2_cann['weedDriving'], df2_cann[exog]).fit()\n",
    "#print(clogit4.summary())\n",
    "\n",
    "# 5th logit regression: weedDriving ~ urban + all controls\n",
    "exog = ['const','urban'] # set up regressors\n",
    "for i in c_prov[1:]:\n",
    "    exog.append(i)\n",
    "for i in c_income[1:]:\n",
    "    exog.append(i)\n",
    "for i in c_edu[1:]:\n",
    "    exog.append(i)\n",
    "      \n",
    "clogit5 = sm.Logit(df2_cann['weedDriving'], df2_cann[exog]).fit()\n",
    "#print(logit5.summary())"
   ]
  },
  {
   "cell_type": "code",
   "execution_count": 189,
   "id": "d8c23f46-d8d5-4ed8-90ff-e53fd36d94f8",
   "metadata": {
    "tags": []
   },
   "outputs": [],
   "source": [
    "# Do Drink/driving and weed/driving admissions differ? By how much?  \n",
    "\n",
    "# Visualize proportion of weed/drinking admissions, in aggregate & separated by province (hor. bar graph)"
   ]
  },
  {
   "cell_type": "code",
   "execution_count": 190,
   "id": "c1ca3f68-89bb-43c0-b0f1-25d9974125a4",
   "metadata": {
    "tags": []
   },
   "outputs": [],
   "source": [
    "# group observations by province\n",
    "# reset indices\n",
    "df2_cann = df2_cann.reset_index(drop=True)\n",
    "df2_drink = df2_drink.reset_index(drop=True)\n",
    "\n",
    "for df in [df2_cann,df2_drink]:\n",
    "    prov_data = []\n",
    "    for i in range(0,len(df)):\n",
    "        if df.loc[i,'prov_BC'].item() == 1:\n",
    "            prov_data.append(\"BC\")\n",
    "        elif df.loc[i,'prov_AB'].item() == 1:\n",
    "            prov_data.append(\"AB\")\n",
    "        elif df.loc[i,'prov_SK'].item() == 1:\n",
    "            prov_data.append(\"SK\")\n",
    "        elif df.loc[i,'prov_MB'].item() == 1:\n",
    "            prov_data.append(\"MB\")\n",
    "        elif df.loc[i,'prov_ON'].item() == 1:\n",
    "            prov_data.append(\"ON\")\n",
    "        elif df.loc[i,'prov_QC'].item() == 1:\n",
    "            prov_data.append(\"QC\")\n",
    "        elif df.loc[i,'prov_NB'].item() == 1:\n",
    "            prov_data.append(\"NB\")\n",
    "        elif df.loc[i,'prov_NS'].item() == 1:\n",
    "            prov_data.append(\"NS\")\n",
    "        elif df.loc[i,'prov_NL'].item() == 1:\n",
    "            prov_data.append(\"NL\")\n",
    "        elif df.loc[i,'prov_PE'].item() == 1:\n",
    "            prov_data.append(\"PE\")\n",
    "        else:\n",
    "            prov_data.append(\"NA\")\n",
    "    df['province'] = prov_data"
   ]
  },
  {
   "cell_type": "code",
   "execution_count": 191,
   "id": "2aad0f06-44d6-4bf7-bfe2-58655cc6bf7d",
   "metadata": {
    "tags": []
   },
   "outputs": [
    {
     "data": {
      "text/plain": [
       "Text(0.5, 1.0, 'Self-reported rates of driving after consuming intoxicants, province and urban/rural segments')"
      ]
     },
     "execution_count": 191,
     "metadata": {},
     "output_type": "execute_result"
    },
    {
     "data": {
      "image/png": "[encoded data removed]",
      "text/plain": [
       "<Figure size 500x1000 with 1 Axes>"
      ]
     },
     "metadata": {},
     "output_type": "display_data"
    }
   ],
   "source": [
    "# take means for each province\n",
    "drink_gb_prov = df2_drink[['province','urban','drinkDriving']].groupby(by=['province','urban'])\n",
    "cann_gb_prov = df2_cann[['province','urban','weedDriving']].groupby(by=['province','urban'])\n",
    "\n",
    "\n",
    "# load means into new object\n",
    "bar_data = pd.merge(drink_gb_prov.mean(),cann_gb_prov.mean(), on=['province','urban'])\n",
    "\n",
    "# Add aggregate measures \n",
    "aggs = pd.DataFrame([['Canada',1,df2_drink.loc[df2_drink['urban']==1,'drinkDriving'].mean(),df2_cann.loc[df2_cann['urban']==1,'weedDriving'].mean()],\n",
    "        ['Canada',0,df2_drink.loc[df2_drink['urban']==0,'drinkDriving'].mean(),df2_cann.loc[df2_cann['urban']==0,'weedDriving'].mean()]], \n",
    "                    columns=['province','urban','drinkDriving','weedDriving'])\n",
    "\n",
    "\n",
    "bar_data = pd.concat([bar_data.reset_index(), aggs],ignore_index=True)\n",
    "\n",
    "# make bar chart\n",
    "bar_data['urban'] = bar_data['urban'].astype('str')\n",
    "\n",
    "labels = []\n",
    "for i in range(0,len(bar_data)):\n",
    "    text = bar_data.loc[i,'province'] + ', '\n",
    "    if bar_data.loc[i,'urban'] == '1':\n",
    "        text = text + 'urban'\n",
    "    else:\n",
    "        text = text + 'rural'\n",
    "    labels.append(text)\n",
    "\n",
    "bar_data['label'] = labels\n",
    "bar_data = bar_data.set_index(['label'])\n",
    "\n",
    "ax = bar_data.plot(kind='barh', figsize=(5, 10))\n",
    "ax.set_ylabel('Province')\n",
    "ax.set_title('Self-reported rates of driving after consuming intoxicants, province and urban/rural segments')"
   ]
  },
  {
   "cell_type": "markdown",
   "id": "2ef47f1f-43e3-4fcb-b5af-a95fb13383a2",
   "metadata": {},
   "source": [
    "This bar chart plots the proportion, separated by province and urban/rural designation, of survey respondents who admit to either having two or more drinks or consuming cannabis within two hours before driving. There is notable provincial variation, with Saskatchewan, Alberta, and Quebec having proportions of survey respondents who drink (or consume cannabis) and drive above the national average. \n",
    "\n",
    "In every province-urban slice except for urban Ontario, consuming cannabis before driving is reported more frequently than drinking and driving. Except for New Brunswick,  Manitoba, Newfoundland and Prince Edward Island, the proportion of those consuming cannabis before driving is notably higher in rural areas than their urban counterparts. \n",
    "\n",
    "Cannabis consumption before driving is markedly higher in rural Alberta and Quebec than drinking and driving. Rural Albertans were 10 percentage points more likely to report they have consumed cannabis before driving than having two or more drinks. Rural Quebecois were 7 percentage points more likely to report consuming cannabis before driving as opposed to drinking. \n"
   ]
  },
  {
   "cell_type": "code",
   "execution_count": 202,
   "id": "5323a729-7c98-4f2f-a77c-78b9b01d7994",
   "metadata": {
    "tags": []
   },
   "outputs": [
    {
     "data": {
      "text/html": [
       "<table style=\"text-align:center\"><tr><td colspan=\"11\" style=\"border-bottom: 1px solid black\"></td></tr>\n",
       "<tr><td style=\"text-align:left\"></td><tr><td></td><td colspan=\"5\">Alcohol</td><td colspan=\"5\">Cannabis</td></tr><tr><td style=\"text-align:left\"></td><td>(1)</td><td>(2)</td><td>(3)</td><td>(4)</td><td>(5)</td><td>(6)</td><td>(7)</td><td>(8)</td><td>(9)</td><td>(10)</td></tr>\n",
       "<tr><td colspan=\"11\" style=\"border-bottom: 1px solid black\"></td></tr>\n",
       "\n",
       "<tr><td style=\"text-align:left\">urban</td><td>-2.721<sup>***</sup></td><td>0.271<sup>**</sup></td><td>0.255<sup>**</sup></td><td>0.218<sup></sup></td><td>0.189<sup></sup></td><td>-2.327<sup>***</sup></td><td>-0.002<sup></sup></td><td>-0.011<sup></sup></td><td>-0.026<sup></sup></td><td>-0.010<sup></sup></td></tr>\n",
       "<tr><td style=\"text-align:left\"></td><td>(0.059)</td><td>(0.130)</td><td>(0.129)</td><td>(0.133)</td><td>(0.135)</td><td>(0.103)</td><td>(0.206)</td><td>(0.204)</td><td>(0.216)</td><td>(0.220)</td></tr>\n",
       "<tr><td style=\"text-align:left\">const</td><td></td><td>-2.892<sup>***</sup></td><td>-3.631<sup>***</sup></td><td>-3.024<sup>***</sup></td><td>-3.462<sup>***</sup></td><td></td><td>-2.214<sup>***</sup></td><td>-2.189<sup>***</sup></td><td>-2.254<sup>***</sup></td><td>-2.042<sup>***</sup></td></tr>\n",
       "<tr><td style=\"text-align:left\"></td><td></td><td>(0.128)</td><td>(0.241)</td><td>(0.207)</td><td>(0.305)</td><td></td><td>(0.200)</td><td>(0.327)</td><td>(0.324)</td><td>(0.444)</td></tr>\n",
       "\n",
       "<tr><td style=\"text-align: left\">Education controls</td><td></td><td>Yes</td><td></td><td></td><td>Yes</td><td></td><td>Yes</td><td></td><td></td><td>Yes</td></tr><tr><td style=\"text-align: left\">Income controls</td><td></td><td></td><td>Yes</td><td></td><td>Yes</td><td></td><td></td><td>Yes</td><td></td><td>Yes</td></tr><tr><td style=\"text-align: left\">Prov. Fixed Effects</td><td></td><td></td><td></td><td>Yes</td><td>Yes</td><td></td><td></td><td></td><td>Yes</td><td>Yes</td></tr><td colspan=\"11\" style=\"border-bottom: 1px solid black\"></td></tr>\n",
       "<tr><td style=\"text-align: left\">Observations</td><td>6660</td><td>6660</td><td>6660</td><td>6660</td><td>6660</td><td>1563</td><td>1563</td><td>1563</td><td>1563</td><td>1563</td></tr>\n",
       "<tr><td colspan=\"11\" style=\"border-bottom: 1px solid black\"></td></tr><tr><td style=\"text-align: left\">Note:</td><td colspan=\"10\" style=\"text-align: right\"><sup>*</sup>p&lt;0.1; <sup>**</sup>p&lt;0.05; <sup>***</sup>p&lt;0.01</td></tr><tr><td colspan=\"11\" style=\"text-align: right\">Regression type: Logit</td></tr></table>"
      ],
      "text/plain": [
       "<IPython.core.display.HTML object>"
      ]
     },
     "execution_count": 202,
     "metadata": {},
     "output_type": "execute_result"
    }
   ],
   "source": [
    "stargazer = Stargazer([logit,logit2,logit3,logit4,logit5,clogit,clogit2,clogit3,clogit4,clogit5])\n",
    "stargazer.covariate_order(['urban','const'])\n",
    "stargazer.add_line('Education controls',[\"\",\"Yes\",\"\",\"\",\"Yes\",\"\",\"Yes\",\"\",\"\",\"Yes\"])\n",
    "stargazer.add_line('Income controls',[\"\",\"\",\"Yes\",\"\",\"Yes\",\"\",\"\",\"Yes\",\"\",\"Yes\"])\n",
    "stargazer.add_line('Prov. Fixed Effects',[\"\",\"\",\"\",\"Yes\",\"Yes\",\"\",\"\",\"\",\"Yes\",\"Yes\"])\n",
    "stargazer.add_custom_notes(['Regression type: Logit'])\n",
    "stargazer.custom_columns(['Alcohol','Cannabis'],separators=[5,5])\n",
    "\n",
    "\n",
    "from IPython.core.display import HTML\n",
    "HTML(stargazer.render_html())"
   ]
  },
  {
   "cell_type": "markdown",
   "id": "e038a7ee-9b1f-4673-811e-2872e806f532",
   "metadata": {},
   "source": [
    "Appears to be simple correlation between rural areas and more incidence of drinking/driving amongst drinkers, a dangerous health and potentially illegal behaviour. Trend appears to reverse itself once education and income controls are added, suggesting that inequalities in income and education may be driving this risk-based behaviour?\n",
    "\n",
    "As for cannabis and driving, same urban/rural correlation which goes to zero with education/income controls. But controls put urban/rural on level playing field whereas for drinking it switches to more proportionate in urban areas. \n",
    "\n",
    "For future areas of analysis, maybe look specifically at incidence vs income and incidence vs education - without the urban/rural split?\n",
    "Also: Does education/income affect number of times you will drive under the influence?\n",
    "\n",
    "Cannabis data: conditioned on consuming cannabis within last 12 months and driving within last 12 months\n",
    "Alcohol data: conditioned on consuming alcohol within last 12 months, and driving within last 12 months"
   ]
  },
  {
   "cell_type": "code",
   "execution_count": 201,
   "id": "09ab4165-4e45-4850-b13b-50d6a5fbfcc8",
   "metadata": {
    "tags": []
   },
   "outputs": [
    {
     "data": {
      "text/html": [
       "<table style=\"text-align:center\"><tr><td colspan=\"5\" style=\"border-bottom: 1px solid black\"></td></tr>\n",
       "<tr><td style=\"text-align:left\"></td><tr><td></td><td colspan=\"2\">Alcohol</td><td colspan=\"2\">Cannabis</td></tr><tr><td style=\"text-align:left\"></td><td>(1)</td><td>(2)</td><td>(3)</td><td>(4)</td></tr>\n",
       "<tr><td colspan=\"5\" style=\"border-bottom: 1px solid black\"></td></tr>\n",
       "\n",
       "<tr><td style=\"text-align:left\">urban</td><td>0.271<sup>**</sup></td><td>0.255<sup>**</sup></td><td>-0.002<sup></sup></td><td>-0.011<sup></sup></td></tr>\n",
       "<tr><td style=\"text-align:left\"></td><td>(0.130)</td><td>(0.129)</td><td>(0.206)</td><td>(0.204)</td></tr>\n",
       "<tr><td style=\"text-align:left\">HS</td><td>-0.328<sup>**</sup></td><td></td><td>-0.083<sup></sup></td><td></td></tr>\n",
       "<tr><td style=\"text-align:left\"></td><td>(0.152)</td><td></td><td>(0.233)</td><td></td></tr>\n",
       "<tr><td style=\"text-align:left\">bel_BA</td><td>-0.734<sup>**</sup></td><td></td><td>-0.087<sup></sup></td><td></td></tr>\n",
       "<tr><td style=\"text-align:left\"></td><td>(0.304)</td><td></td><td>(0.450)</td><td></td></tr>\n",
       "<tr><td style=\"text-align:left\">BA</td><td>0.019<sup></sup></td><td></td><td>-0.226<sup></sup></td><td></td></tr>\n",
       "<tr><td style=\"text-align:left\"></td><td>(0.133)</td><td></td><td>(0.238)</td><td></td></tr>\n",
       "<tr><td style=\"text-align:left\">abv_BA</td><td>-0.156<sup></sup></td><td></td><td>-0.342<sup></sup></td><td></td></tr>\n",
       "<tr><td style=\"text-align:left\"></td><td>(0.170)</td><td></td><td>(0.328)</td><td></td></tr>\n",
       "<tr><td style=\"text-align:left\">inc20_40</td><td></td><td>0.097<sup></sup></td><td></td><td>-0.093<sup></sup></td></tr>\n",
       "<tr><td style=\"text-align:left\"></td><td></td><td>(0.296)</td><td></td><td>(0.393)</td></tr>\n",
       "<tr><td style=\"text-align:left\">inc40_60</td><td></td><td>0.448<sup>*</sup></td><td></td><td>0.142<sup></sup></td></tr>\n",
       "<tr><td style=\"text-align:left\"></td><td></td><td>(0.267)</td><td></td><td>(0.359)</td></tr>\n",
       "<tr><td style=\"text-align:left\">inc60_80</td><td></td><td>0.407<sup></sup></td><td></td><td>0.040<sup></sup></td></tr>\n",
       "<tr><td style=\"text-align:left\"></td><td></td><td>(0.269)</td><td></td><td>(0.366)</td></tr>\n",
       "<tr><td style=\"text-align:left\">inc80_100</td><td></td><td>0.964<sup>***</sup></td><td></td><td>-0.122<sup></sup></td></tr>\n",
       "<tr><td style=\"text-align:left\"></td><td></td><td>(0.260)</td><td></td><td>(0.387)</td></tr>\n",
       "<tr><td style=\"text-align:left\">inc100_150</td><td></td><td>0.735<sup>***</sup></td><td></td><td>-0.510<sup></sup></td></tr>\n",
       "<tr><td style=\"text-align:left\"></td><td></td><td>(0.250)</td><td></td><td>(0.373)</td></tr>\n",
       "<tr><td style=\"text-align:left\">inc_abv_150</td><td></td><td>1.088<sup>***</sup></td><td></td><td>-0.193<sup></sup></td></tr>\n",
       "<tr><td style=\"text-align:left\"></td><td></td><td>(0.244)</td><td></td><td>(0.360)</td></tr>\n",
       "\n",
       "<td colspan=\"5\" style=\"border-bottom: 1px solid black\"></td></tr>\n",
       "<tr><td style=\"text-align: left\">Observations</td><td>6660</td><td>6660</td><td>1563</td><td>1563</td></tr>\n",
       "<tr><td colspan=\"5\" style=\"border-bottom: 1px solid black\"></td></tr><tr><td style=\"text-align: left\">Note:</td><td colspan=\"4\" style=\"text-align: right\"><sup>*</sup>p&lt;0.1; <sup>**</sup>p&lt;0.05; <sup>***</sup>p&lt;0.01</td></tr><tr><td colspan=\"5\" style=\"text-align: right\">Regression type: Logit</td></tr></table>"
      ],
      "text/plain": [
       "<IPython.core.display.HTML object>"
      ]
     },
     "execution_count": 201,
     "metadata": {},
     "output_type": "execute_result"
    }
   ],
   "source": [
    "# Regression table for drink/cannabis, education controls, income controls\n",
    "stargazer2 = Stargazer([logit2,logit3,clogit2,clogit3])\n",
    "stargazer2.add_custom_notes(['Regression type: Logit'])\n",
    "stargazer2.custom_columns(['Alcohol','Cannabis'],separators=[2,2])\n",
    "stargazer2.covariate_order(['urban','HS','bel_BA','BA','abv_BA','inc20_40','inc40_60','inc60_80','inc80_100','inc100_150','inc_abv_150'])\n",
    "\n",
    "HTML(stargazer2.render_html())"
   ]
  },
  {
   "cell_type": "markdown",
   "id": "57ab11f6-fc45-4633-b53d-69a956815886",
   "metadata": {},
   "source": [
    "Notable coefficients for drinking/driving and both education and HH income. Controlling for urban/rural, higher income brackets have statistically significant higher probability of reporting drinking/driving compared to reference below 20K income category. This is in a universe where all income levels have drinken, and driven a vehicle. Maybe check sample size in each category? Maybe it is vehicle ownership; lower incomes less likely to afford a vehicle but perhaps have a job or have had other reason to drive, scenarios in which they are less likely to be drinking in the first place.\n",
    "\n",
    "Notable negative correlation between higher education and drink/driving, with no HS as reference category; higher educated individuals seems to be less likely to drink/drive"
   ]
  },
  {
   "cell_type": "code",
   "execution_count": null,
   "id": "32e97d5b-1696-481c-955b-dc8eeeac1aca",
   "metadata": {},
   "outputs": [],
   "source": [
    "# IF TIME: Create barcharts showing differing distributions between frequency of drink/driving and cannabis/driving - in aggregate\n",
    "# and urban/rural split"
   ]
  }
 ],
 "metadata": {
  "kernelspec": {
   "display_name": "Python 3 (ipykernel)",
   "language": "python",
   "name": "python3"
  },
  "language_info": {
   "codemirror_mode": {
    "name": "ipython",
    "version": 3
   },
   "file_extension": ".py",
   "mimetype": "text/x-python",
   "name": "python",
   "nbconvert_exporter": "python",
   "pygments_lexer": "ipython3",
   "version": "3.11.3"
  }
 },
 "nbformat": 4,
 "nbformat_minor": 5
}
